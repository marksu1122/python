{
 "cells": [
  {
   "cell_type": "code",
   "execution_count": 1,
   "metadata": {},
   "outputs": [
    {
     "name": "stdout",
     "output_type": "stream",
     "text": [
      "           UserId                                 ProfileName      mean  count\n",
      "0  A1Z54EM24Y40LL                                          c2  3.882353     17\n",
      "1  A2SZLNSI5KOQJT  Carrie, \"Formerly &#34;Sister Carrie&#34;\"  3.800000     10\n",
      "2  A35R32TA60XD57                                    M. Torma  4.111111      9\n",
      "3  A281NPSIMI1C2R      Rebecca of Amazon \"The Rebecca Review\"  5.000000      8\n",
      "4  A3PJZ8TU8FDQ1K                                Jared Castle  4.714286      7\n",
      "5  A3OXHLG6DIBRW8                            C. F. Hill \"CFH\"  4.428571      7\n",
      "6  A3NHUQ33CFH3VM                                Citizen John  3.142857      7\n",
      "7   AY12DBB0U420B                               Gary Peterson  4.500000      6\n",
      "8   AQQLWCMRNDFGI                          Steven A. Peterson  4.166667      6\n",
      "9   AQ6SHOW0VMZGF                      K. Padgett \"familyof5\"  2.666667      6\n"
     ]
    }
   ],
   "source": [
    "run hw1.py "
   ]
  },
  {
   "cell_type": "code",
   "execution_count": 2,
   "metadata": {},
   "outputs": [
    {
     "ename": "SyntaxError",
     "evalue": "invalid syntax (<ipython-input-2-29ffc3870d05>, line 1)",
     "output_type": "error",
     "traceback": [
      "\u001b[0;36m  File \u001b[0;32m\"<ipython-input-2-29ffc3870d05>\"\u001b[0;36m, line \u001b[0;32m1\u001b[0m\n\u001b[0;31m    open hw1.py\u001b[0m\n\u001b[0m           ^\u001b[0m\n\u001b[0;31mSyntaxError\u001b[0m\u001b[0;31m:\u001b[0m invalid syntax\n"
     ]
    }
   ],
   "source": [
    "open hw1.py"
   ]
  },
  {
   "cell_type": "code",
   "execution_count": null,
   "metadata": {},
   "outputs": [],
   "source": []
  }
 ],
 "metadata": {
  "kernelspec": {
   "display_name": "Python 3",
   "language": "python",
   "name": "python3"
  },
  "language_info": {
   "codemirror_mode": {
    "name": "ipython",
    "version": 3
   },
   "file_extension": ".py",
   "mimetype": "text/x-python",
   "name": "python",
   "nbconvert_exporter": "python",
   "pygments_lexer": "ipython3",
   "version": "3.7.4"
  }
 },
 "nbformat": 4,
 "nbformat_minor": 2
}
